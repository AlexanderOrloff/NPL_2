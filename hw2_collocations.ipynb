{
 "cells": [
  {
   "cell_type": "markdown",
   "metadata": {},
   "source": [
    "# Автобрея. ДЗ2"
   ]
  },
  {
   "cell_type": "markdown",
   "metadata": {},
   "source": [
    "Дорогая,  Екатерина Владимировна! \n",
    "Просто хочу напомнить Вам, что мы с вами договорились о том, что я сдам дз посед дэдлайна без штрафа, так как у меня была официальная \"отсрочка\"."
   ]
  },
  {
   "cell_type": "markdown",
   "metadata": {},
   "source": [
    "**Часть 1. Отфильтровываем словосочетания**"
   ]
  },
  {
   "cell_type": "code",
   "execution_count": 30,
   "metadata": {},
   "outputs": [],
   "source": [
    "from pymorphy2 import MorphAnalyzer\n",
    "from nltk.tokenize import RegexpTokenizer\n",
    "from collections import Counter\n",
    "from nltk.parse import DependencyGraph"
   ]
  },
  {
   "cell_type": "code",
   "execution_count": 31,
   "metadata": {},
   "outputs": [
    {
     "name": "stderr",
     "output_type": "stream",
     "text": [
      "Loading UDPipe model: done.\n"
     ]
    }
   ],
   "source": [
    "!C:\\Users\\asus\\Downloads\\udpipe-1.2.0-bin\\udpipe-1.2.0-bin\\bin-win64\\udpipe --input horizontal --output conllu \\\n",
    "--tokenize --tag --parse \\\n",
    "C:\\Users\\asus\\Documents\\doc\\russian-syntagrus-ud-2.4-190531.udpipe \\\n",
    "< text.txt > text.conllu"
   ]
  },
  {
   "cell_type": "code",
   "execution_count": 32,
   "metadata": {},
   "outputs": [],
   "source": [
    "with open('text.txt', 'r', encoding='utf-8') as f:\n",
    "    text = f.read()"
   ]
  },
  {
   "cell_type": "code",
   "execution_count": 85,
   "metadata": {},
   "outputs": [],
   "source": [
    "trees = []\n",
    "\n",
    "with open('text.conllu', 'r', encoding = 'utf-8') as f:\n",
    "    parsed_sents = f.read().split('\\n\\n')\n",
    "\n",
    "    for sent in parsed_sents:\n",
    "        tree = [line for line in sent.split('\\n') if line and line[0] != '#']\n",
    "        trees.append('\\n'.join(tree))"
   ]
  },
  {
   "cell_type": "code",
   "execution_count": 86,
   "metadata": {},
   "outputs": [],
   "source": [
    "m = MorphAnalyzer()\n",
    "tokenizer = RegexpTokenizer(r'\\w+')"
   ]
  },
  {
   "cell_type": "code",
   "execution_count": 87,
   "metadata": {},
   "outputs": [],
   "source": [
    "def normalize(text):\n",
    "    tokens = tokenizer.tokenize(text.lower())\n",
    "    lemmas = [m.parse(token)[0].normal_form for token in tokens]\n",
    "    return lemmas #возвращает массив"
   ]
  },
  {
   "cell_type": "code",
   "execution_count": 88,
   "metadata": {},
   "outputs": [],
   "source": [
    "lemmas = normalize(text)\n",
    "lemmas_counter = Counter(lemmas)\n",
    "over_50 = [x[0] for x in lemmas_counter.items() if x[1] >= 50]"
   ]
  },
  {
   "cell_type": "code",
   "execution_count": 89,
   "metadata": {},
   "outputs": [
    {
     "data": {
      "text/plain": [
       "['я',\n",
       " 'бы',\n",
       " 'единый',\n",
       " 'россия',\n",
       " 'в',\n",
       " 'один',\n",
       " 'не',\n",
       " 'только',\n",
       " 'депутат',\n",
       " 'но',\n",
       " 'и',\n",
       " 'суд',\n",
       " 'прокуратура',\n",
       " 'заявить',\n",
       " 'ъ',\n",
       " 'член',\n",
       " 'борис',\n",
       " 'тогда',\n",
       " 'о',\n",
       " 'власть']"
      ]
     },
     "execution_count": 89,
     "metadata": {},
     "output_type": "execute_result"
    }
   ],
   "source": [
    "over_50[:20]"
   ]
  },
  {
   "cell_type": "code",
   "execution_count": 90,
   "metadata": {},
   "outputs": [],
   "source": [
    "collocations = []\n",
    "for i, tree in enumerate(trees):\n",
    "    try:\n",
    "        g = DependencyGraph(tree, top_relation_label='root')\n",
    "        \n",
    "        for line in g.triples():\n",
    "            # (('предложил', 'VERB'), 'punct', ('\"', 'PUNCT'))\n",
    "            if line[0][1] == 'VERB' and line[1] == 'obj' and line[2][1] == 'NOUN' and len(line[0][0]) > 3:\n",
    "                # проверка длины поможет избавиться от мусора, так как в глаголы почему-то попали \n",
    "                # также \"в\", \"и\" и м б некоторые другие служебные слова, которые набирают очень \n",
    "                # высокие скоры словосочетаний и всё портят                \n",
    "                verb = normalize(line[0][0])\n",
    "                if verb[0] in over_50:\n",
    "                    collocations.append((verb[0], normalize(line[2][0])[0]))\n",
    "                    \n",
    "    except:\n",
    "        pass"
   ]
  },
  {
   "cell_type": "code",
   "execution_count": 91,
   "metadata": {},
   "outputs": [
    {
     "data": {
      "text/plain": [
       "[('подать', 'иск'),\n",
       " ('признать', 'договор'),\n",
       " ('рассмотреть', 'вопрос'),\n",
       " ('обвинить', 'руководство'),\n",
       " ('получить', 'срок'),\n",
       " ('обвинить', 'олигарх'),\n",
       " ('направить', 'ведомство'),\n",
       " ('просить', 'суд'),\n",
       " ('сделать', 'заявление'),\n",
       " ('рассматривать', 'ходатайство')]"
      ]
     },
     "execution_count": 91,
     "metadata": {},
     "output_type": "execute_result"
    }
   ],
   "source": [
    "collocations[:10]"
   ]
  },
  {
   "cell_type": "markdown",
   "metadata": {},
   "source": [
    "**Часть 2 и 3. Метрики**"
   ]
  },
  {
   "cell_type": "code",
   "execution_count": 92,
   "metadata": {},
   "outputs": [],
   "source": [
    "import nltk\n",
    "from nltk.collocations import *"
   ]
  },
  {
   "cell_type": "code",
   "execution_count": 93,
   "metadata": {},
   "outputs": [],
   "source": [
    "bigram_measures = nltk.collocations.BigramAssocMeasures()\n",
    "finder = BigramCollocationFinder.from_documents(collocations)"
   ]
  },
  {
   "cell_type": "markdown",
   "metadata": {},
   "source": [
    "Вот тут будут лежать скоры. Мы же сразу перейдём к топу 100 и его пересечению"
   ]
  },
  {
   "cell_type": "code",
   "execution_count": 94,
   "metadata": {},
   "outputs": [],
   "source": [
    "likelihood_scores = finder.score_ngrams(bigram_measures.likelihood_ratio)\n",
    "dice_scores = finder.score_ngrams(bigram_measures.dice)\n",
    "pmi_scores = finder.score_ngrams(bigram_measures.pmi)"
   ]
  },
  {
   "cell_type": "code",
   "execution_count": 95,
   "metadata": {},
   "outputs": [
    {
     "data": {
      "text/plain": [
       "[(('подать', 'иск'), 380.19748667174326),\n",
       " (('представлять', 'интерес'), 276.8897944059793),\n",
       " (('выдать', 'санкция'), 228.65957556686018),\n",
       " (('принять', 'решение'), 204.95762712617565),\n",
       " (('удовлетворить', 'иск'), 179.08076220192416),\n",
       " (('вынести', 'приговор'), 176.86441368440072),\n",
       " (('попросить', 'суд'), 174.25792107286),\n",
       " (('обжаловать', 'решение'), 167.46986225687957),\n",
       " (('просить', 'суд'), 149.06891601473905),\n",
       " (('вынести', 'решение'), 125.19970185458662)]"
      ]
     },
     "execution_count": 95,
     "metadata": {},
     "output_type": "execute_result"
    }
   ],
   "source": [
    "likelihood_scores[:10]"
   ]
  },
  {
   "cell_type": "code",
   "execution_count": 96,
   "metadata": {},
   "outputs": [
    {
     "data": {
      "text/plain": [
       "[(('газета', 'предупреждение'), 1.0),\n",
       " (('начало', 'разбирательство'), 1.0),\n",
       " (('рассказать', 'замгендиректор'), 1.0),\n",
       " (('являться', 'долг'), 1.0),\n",
       " (('представлять', 'интерес'), 0.84375),\n",
       " (('выдать', 'санкция'), 0.75),\n",
       " (('есть', 'признак'), 0.6666666666666666),\n",
       " (('напомнить', 'основание'), 0.6666666666666666),\n",
       " (('отказаться', 'падение'), 0.6666666666666666),\n",
       " (('стать', 'сальмонелла'), 0.6666666666666666)]"
      ]
     },
     "execution_count": 96,
     "metadata": {},
     "output_type": "execute_result"
    }
   ],
   "source": [
    "dice_scores [:10]"
   ]
  },
  {
   "cell_type": "code",
   "execution_count": 97,
   "metadata": {},
   "outputs": [
    {
     "data": {
      "text/plain": [
       "[(('газета', 'предупреждение'), 12.026523442519766),\n",
       " (('начало', 'разбирательство'), 12.026523442519766),\n",
       " (('рассказать', 'замгендиректор'), 12.026523442519766),\n",
       " (('являться', 'долг'), 12.026523442519766),\n",
       " (('есть', 'признак'), 11.026523442519766),\n",
       " (('отказаться', 'падение'), 11.026523442519766),\n",
       " (('стать', 'сальмонелла'), 11.026523442519766),\n",
       " (('обратиться', 'ответ'), 10.44156094179861),\n",
       " (('обратиться', 'родные'), 10.44156094179861),\n",
       " (('пояснить', 'причина'), 10.44156094179861)]"
      ]
     },
     "execution_count": 97,
     "metadata": {},
     "output_type": "execute_result"
    }
   ],
   "source": [
    "pmi_scores [:10]"
   ]
  },
  {
   "cell_type": "markdown",
   "metadata": {},
   "source": [
    " а теперь перейдём к нахождению топов и пересечению"
   ]
  },
  {
   "cell_type": "code",
   "execution_count": 98,
   "metadata": {},
   "outputs": [
    {
     "data": {
      "text/plain": [
       "[('подать', 'иск'),\n",
       " ('представлять', 'интерес'),\n",
       " ('выдать', 'санкция'),\n",
       " ('принять', 'решение'),\n",
       " ('удовлетворить', 'иск'),\n",
       " ('вынести', 'приговор'),\n",
       " ('попросить', 'суд'),\n",
       " ('обжаловать', 'решение'),\n",
       " ('просить', 'суд'),\n",
       " ('вынести', 'решение')]"
      ]
     },
     "execution_count": 98,
     "metadata": {},
     "output_type": "execute_result"
    }
   ],
   "source": [
    "likelihood = finder.nbest(bigram_measures.likelihood_ratio, 100)\n",
    "likelihood[:10]"
   ]
  },
  {
   "cell_type": "code",
   "execution_count": 99,
   "metadata": {},
   "outputs": [
    {
     "data": {
      "text/plain": [
       "[('газета', 'предупреждение'),\n",
       " ('начало', 'разбирательство'),\n",
       " ('рассказать', 'замгендиректор'),\n",
       " ('являться', 'долг'),\n",
       " ('есть', 'признак'),\n",
       " ('отказаться', 'падение'),\n",
       " ('стать', 'сальмонелла'),\n",
       " ('обратиться', 'ответ'),\n",
       " ('обратиться', 'родные'),\n",
       " ('пояснить', 'причина')]"
      ]
     },
     "execution_count": 99,
     "metadata": {},
     "output_type": "execute_result"
    }
   ],
   "source": [
    "pmi = finder.nbest(bigram_measures.pmi, 100)\n",
    "pmi[:10]"
   ]
  },
  {
   "cell_type": "code",
   "execution_count": 100,
   "metadata": {},
   "outputs": [
    {
     "data": {
      "text/plain": [
       "[('газета', 'предупреждение'),\n",
       " ('начало', 'разбирательство'),\n",
       " ('рассказать', 'замгендиректор'),\n",
       " ('являться', 'долг'),\n",
       " ('представлять', 'интерес'),\n",
       " ('выдать', 'санкция'),\n",
       " ('есть', 'признак'),\n",
       " ('напомнить', 'основание'),\n",
       " ('отказаться', 'падение'),\n",
       " ('стать', 'сальмонелла')]"
      ]
     },
     "execution_count": 100,
     "metadata": {},
     "output_type": "execute_result"
    }
   ],
   "source": [
    "dice = finder.nbest(bigram_measures.dice, 100)\n",
    "dice[:10]"
   ]
  },
  {
   "cell_type": "code",
   "execution_count": 101,
   "metadata": {},
   "outputs": [
    {
     "data": {
      "text/plain": [
       "{('арестовать', 'имущество'),\n",
       " ('взыскать', 'задолженность'),\n",
       " ('взыскать', 'неустойка'),\n",
       " ('доказать', 'незаконность'),\n",
       " ('запретить', 'деятельность'),\n",
       " ('заявить', 'отвод'),\n",
       " ('назначить', 'наказание'),\n",
       " ('напомнить', 'основание'),\n",
       " ('объявить', 'голодовка'),\n",
       " ('объявить', 'перерыв'),\n",
       " ('объявить', 'предприниматель'),\n",
       " ('отказать', 'оао'),\n",
       " ('решить', 'проблема')}"
      ]
     },
     "execution_count": 101,
     "metadata": {},
     "output_type": "execute_result"
    }
   ],
   "source": [
    "intersection = set(likelihood) & set(dice) & set(pmi)\n",
    "intersection"
   ]
  },
  {
   "cell_type": "markdown",
   "metadata": {},
   "source": [
    "Ну, скажем так, это не идеальный результат, но всё же...\n",
    "Объявить предприниматель - это ошибка изначальной синтаксической разметки. Там \"обвинение - предприниматель\", которое странно расспарсилось и, возможно, из-за специфики текста попало в топ. Также из-за этого туда попало \" отказать оао\""
   ]
  },
  {
   "cell_type": "code",
   "execution_count": 102,
   "metadata": {},
   "outputs": [],
   "source": [
    "with open('verb_coll.txt', 'r', encoding='utf-8') as f:\n",
    "    lines = f.readlines()\n",
    "    \n",
    "verb_dict = [tuple(normalize(line.split('\\t')[-1].strip())) for line in lines]"
   ]
  },
  {
   "cell_type": "code",
   "execution_count": 103,
   "metadata": {},
   "outputs": [
    {
     "data": {
      "text/plain": [
       "[('аборт', 'делать'),\n",
       " ('делать', 'аборт'),\n",
       " ('сделать', 'аборт'),\n",
       " ('авария', 'произойти'),\n",
       " ('авария', 'случиться'),\n",
       " ('потерпеть', 'авария'),\n",
       " ('произойти', 'авария'),\n",
       " ('случиться', 'авария'),\n",
       " ('завоевать', 'авторитет'),\n",
       " ('подорвать', 'авторитет')]"
      ]
     },
     "execution_count": 103,
     "metadata": {},
     "output_type": "execute_result"
    }
   ],
   "source": [
    "verb_dict[:10]"
   ]
  },
  {
   "cell_type": "code",
   "execution_count": 104,
   "metadata": {},
   "outputs": [],
   "source": [
    "golden_standart = intersection & set(verb_dict)"
   ]
  },
  {
   "cell_type": "code",
   "execution_count": 105,
   "metadata": {},
   "outputs": [
    {
     "data": {
      "text/plain": [
       "{('объявить', 'перерыв'), ('решить', 'проблема')}"
      ]
     },
     "execution_count": 105,
     "metadata": {},
     "output_type": "execute_result"
    }
   ],
   "source": [
    "golden_standart"
   ]
  },
  {
   "cell_type": "markdown",
   "metadata": {},
   "source": [
    "И на этом этапе я начинаю понимать, что нам, правда, надо перейти к этапу 4, где мы добавляем всё ручками))"
   ]
  },
  {
   "cell_type": "markdown",
   "metadata": {},
   "source": [
    "**Часть 4. NLP - это руками (с)**"
   ]
  },
  {
   "cell_type": "markdown",
   "metadata": {},
   "source": [
    "так как имеющихся двух словосочетаний в золотом стандарте, конечно же, недостаточно, добавим еще выражений из топов"
   ]
  },
  {
   "cell_type": "markdown",
   "metadata": {},
   "source": [
    "При добавлении следуюших словосочетаний я руковдствовался тем, что глагол и сушествительное  ав них (согласно моей интуиции носителя) встречаются в месте чаще, чем стоило бы ожидать в среднем ('вынести приговор'), что глагол или существительное в этом словосочетании было бы странно заменить синонимом (т. е. это, может быть, даже и было бы грамматично,но так, как правило, не делают: принять решение - взять решение, дать показания - предоставить/направить показания) и тем, что порою эти слова вместе имеют некомпозициональное значение ('принять решение', 'представлять интерес')- т. е. не могут быть выведены как \"сумма\" прямых значений составляющих их слов"
   ]
  },
  {
   "cell_type": "code",
   "execution_count": 106,
   "metadata": {},
   "outputs": [],
   "source": [
    "to_add = {('подать', 'иск'), ('представлять', 'интерес'), ('принять', 'решение'), ('вынести', 'приговор'), ('сделать', 'заявление'), ('дать', 'показание'), ('дать', 'оценка')}"
   ]
  },
  {
   "cell_type": "code",
   "execution_count": 107,
   "metadata": {},
   "outputs": [],
   "source": [
    " final_set =  golden_standart| to_add"
   ]
  },
  {
   "cell_type": "code",
   "execution_count": 108,
   "metadata": {},
   "outputs": [
    {
     "data": {
      "text/plain": [
       "{('вынести', 'приговор'),\n",
       " ('дать', 'оценка'),\n",
       " ('дать', 'показание'),\n",
       " ('объявить', 'перерыв'),\n",
       " ('подать', 'иск'),\n",
       " ('представлять', 'интерес'),\n",
       " ('принять', 'решение'),\n",
       " ('решить', 'проблема'),\n",
       " ('сделать', 'заявление')}"
      ]
     },
     "execution_count": 108,
     "metadata": {},
     "output_type": "execute_result"
    }
   ],
   "source": [
    "final_set"
   ]
  },
  {
   "cell_type": "markdown",
   "metadata": {},
   "source": [
    "**Часть 5. Оценка качества**"
   ]
  },
  {
   "cell_type": "code",
   "execution_count": 117,
   "metadata": {},
   "outputs": [],
   "source": [
    "from scipy.stats import spearmanr"
   ]
  },
  {
   "cell_type": "markdown",
   "metadata": {},
   "source": [
    "Для работы со Спирманном нам нужно как-то отранжировать полученные биграммы. Своей интуицией я отранжирую их так."
   ]
  },
  {
   "cell_type": "code",
   "execution_count": 110,
   "metadata": {},
   "outputs": [],
   "source": [
    "ranged = [\n",
    "    ('представлять', 'интерес'),\n",
    "    ('принять', 'решение'),\n",
    "    ('дать', 'оценка'),\n",
    "    ('дать', 'показание'),\n",
    "    ('вынести', 'приговор'),\n",
    "    ('сделать', 'заявление'),\n",
    "    ('подать', 'иск'),\n",
    "    ('решить', 'проблема'),\n",
    "    ('объявить', 'перерыв')\n",
    "]"
   ]
  },
  {
   "cell_type": "markdown",
   "metadata": {},
   "source": [
    "Если мы просто прогоним по метрике тьюплы, результаты получатся не читабельными"
   ]
  },
  {
   "cell_type": "code",
   "execution_count": 112,
   "metadata": {},
   "outputs": [
    {
     "data": {
      "text/plain": [
       "SpearmanrResult(correlation=array([[ 1.        , -0.30962614, -0.13445378, -0.1924703 ],\n",
       "       [-0.30962614,  1.        ,  0.07531447, -0.01666667],\n",
       "       [-0.13445378,  0.07531447,  1.        , -0.16736548],\n",
       "       [-0.1924703 , -0.01666667, -0.16736548,  1.        ]]), pvalue=array([[0.        , 0.41747792, 0.73018588, 0.61980614],\n",
       "       [0.41747792, 0.        , 0.84729402, 0.9660548 ],\n",
       "       [0.73018588, 0.84729402, 0.        , 0.66690464],\n",
       "       [0.61980614, 0.9660548 , 0.66690464, 0.        ]]))"
      ]
     },
     "execution_count": 112,
     "metadata": {},
     "output_type": "execute_result"
    }
   ],
   "source": [
    "spearmanr(pmi[:len(ranged)],ranged)"
   ]
  },
  {
   "cell_type": "markdown",
   "metadata": {},
   "source": [
    "Поэтому"
   ]
  },
  {
   "cell_type": "code",
   "execution_count": 113,
   "metadata": {},
   "outputs": [],
   "source": [
    "def stringing(ranged):\n",
    "    res = []\n",
    "    for item in ranged:\n",
    "        res.append(' '.join(item))\n",
    "    return res "
   ]
  },
  {
   "cell_type": "code",
   "execution_count": 116,
   "metadata": {},
   "outputs": [],
   "source": [
    "pmi = stringing(pmi)\n",
    "dice = stringing(dice)\n",
    "likelihood = stringing(likelihood)\n",
    "ranged = stringing(ranged)"
   ]
  },
  {
   "cell_type": "code",
   "execution_count": 120,
   "metadata": {},
   "outputs": [
    {
     "data": {
      "text/plain": [
       "SpearmanrResult(correlation=-0.4666666666666666, pvalue=0.20538635110581185)"
      ]
     },
     "execution_count": 120,
     "metadata": {},
     "output_type": "execute_result"
    }
   ],
   "source": [
    "spearmanr(likelihood[:len(ranged)],ranged)"
   ]
  },
  {
   "cell_type": "code",
   "execution_count": 121,
   "metadata": {},
   "outputs": [
    {
     "data": {
      "text/plain": [
       "SpearmanrResult(correlation=-0.7999999999999999, pvalue=0.00962792472537983)"
      ]
     },
     "execution_count": 121,
     "metadata": {},
     "output_type": "execute_result"
    }
   ],
   "source": [
    "spearmanr(dice[:len(ranged)],ranged)"
   ]
  },
  {
   "cell_type": "code",
   "execution_count": 122,
   "metadata": {},
   "outputs": [
    {
     "data": {
      "text/plain": [
       "SpearmanrResult(correlation=-0.15, pvalue=0.7000942309691419)"
      ]
     },
     "execution_count": 122,
     "metadata": {},
     "output_type": "execute_result"
    }
   ],
   "source": [
    "spearmanr(pmi[:len(ranged)],ranged)"
   ]
  },
  {
   "cell_type": "markdown",
   "metadata": {},
   "source": [
    "По метрикам получается, что dice ведёт себя лучше всех,но мне субъективно больше понравились результаты likelihood"
   ]
  }
 ],
 "metadata": {
  "kernelspec": {
   "display_name": "Python 3",
   "language": "python",
   "name": "python3"
  },
  "language_info": {
   "codemirror_mode": {
    "name": "ipython",
    "version": 3
   },
   "file_extension": ".py",
   "mimetype": "text/x-python",
   "name": "python",
   "nbconvert_exporter": "python",
   "pygments_lexer": "ipython3",
   "version": "3.7.3"
  }
 },
 "nbformat": 4,
 "nbformat_minor": 2
}
