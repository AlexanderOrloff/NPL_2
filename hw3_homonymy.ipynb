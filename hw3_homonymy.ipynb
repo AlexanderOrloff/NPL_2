{
 "cells": [
  {
   "cell_type": "markdown",
   "metadata": {},
   "source": [
    "1.**Выделение значений и диагностических слов и предложений**"
   ]
  },
  {
   "cell_type": "markdown",
   "metadata": {},
   "source": [
    "Я взял для домашнего задания слово \"лук\". Всего по МАС есть 2 лексемы с фонетической оболочкой \"лук\". Одна из них - это оружие. В МАСе:\n",
    "Ручное оружие для метания стрел в виде дуги, стянутой тетивой. Стрелять из лука. □ Всадник с натянутым луком мчался за семьей оленей.\n",
    "Вторая относитяс к овощу. В МАСе у нее выделяется 2 подзначения:\n",
    "1. Огородное растение сем. лилейных, овощ.\n",
    "\n",
    "2. собир. Съедобные трубчатые листья или луковицы этого растения. Зеленый лук. Репчатый лук.\n",
    "Но так как второе является регулярным метонимическим переносом от первого по значению целое - часть, я склею их в одно. Так, как правило, близкие метонимические переходы не рассматриваются как отдельные значения и, что важно, не воспринимаются как таковые даже носителями языка (я работал в проекте, посвящённом этой теме). Также эти значения схлопнуты в одно в других словарях русского языка: в Ожегове, в Ушакове. К тому же, второе значение почти никогда не употребляется без слов \"зелёный\" или \"репчатый\", т. е. отчасти можно говрить, что такое значение скорее есть у коллокации, чем у отдельного слова."
   ]
  },
  {
   "cell_type": "code",
   "execution_count": 126,
   "metadata": {},
   "outputs": [],
   "source": [
    "def0 = 'Огородное растение сем. лилейных, овощ или съедобные трубчатые листья или луковицы этого растения.'\n",
    "def1 = 'Ручное оружие для метания стрел в виде дуги, стянутой тетивой.'"
   ]
  },
  {
   "cell_type": "code",
   "execution_count": 127,
   "metadata": {},
   "outputs": [],
   "source": [
    "diagnostic_words0 = ['огород', 'овощь', 'резать', 'нарезать', 'готовить', 'зелёный', 'репчатый', 'есть', 'грядка']\n",
    "diagnostic_words1 = ['стрелы', 'стрелять','выстрелить', 'тетива', 'оружие','воин', ' изогнутый', 'натянуть', 'колчан', 'всадник']"
   ]
  },
  {
   "cell_type": "markdown",
   "metadata": {},
   "source": [
    "Мне не хотелось брать совсем уж примитивные контексты, так что вот:"
   ]
  },
  {
   "cell_type": "code",
   "execution_count": 128,
   "metadata": {},
   "outputs": [],
   "source": [
    "set0= [\n",
    "    'С огородов тащат лук, морковь, чеснок, свеклу, а главное, картошку. ',\n",
    "    'Четыре дня я подкапывал картошку на огороде, резал зеленый лук и ел без хлеба с прошлогодними солеными грибами.',\n",
    "    'Вкуснее и питательнее, по всей видимости, будут в нынешнем году подмосковная картошка, морковка, лук и другие овощи.',\n",
    "    'Мы сидели на кухне и я мешал тебе резать лук для какого-то салата.',\n",
    "    'Принимался готовить, отдавая нам приказания ― кому нарезать лук, кому вымыть рис, вскипятить воду.',\n",
    "    'Из другой поездки привез нам мешок репчатого лука, трехлитровую бутыль подсолнечного масла.',\n",
    "    'Нарезайте как для салата, добавьте по вкусу репчатый лук, чеснок, соль, перец.',\n",
    "    'Приходя домой, он садился тот же час за стол, хлебал наскоро свои щи и ел кусок говядины с луком.',\n",
    "    'Мама весной вскопала грядки, посадила свеклу, морковь, лук, чеснок, петрушку.',\n",
    "    'И жизнь там шла своя, деревенская: с палисадничком, грядками с луком, сиренью в окнах.'\n",
    "]"
   ]
  },
  {
   "cell_type": "code",
   "execution_count": 129,
   "metadata": {},
   "outputs": [],
   "source": [
    "set1 = [\n",
    "    'У меня есть лук, несколько стрел, ручные нарты, маленький нож и топор.',\n",
    "    'Два лука и колчан он поместил на моей спине, взвалил меня на плечи и побежал в лес.',\n",
    "    'Когда ладья чуть отплыла от берега, собравшиеся на похороны стали делать такие движения, словно стреляют из луков.',\n",
    "    'Ещё на одной стороне сосуда воин натягивает тетиву лука',\n",
    "    'В особом амбаре хранилось всякое ручное оружие ― луки, копья, сабли, пики, а также проволочные кольчуги, старинные шишаки и брони.',\n",
    "    'На том берегу косоглазые варвары подняли изогнутые луки, пустили стаю стрел',\n",
    "    'Для охоты у нас есть луки и стрелы… ',\n",
    "    'Натяни свой лук и стрелу пускай',\n",
    "    'В долгом молчании я увидел ― ее черные глаза, похожие на два маленьких лука, раскрылись широко, будто кто-то натянул тетиву.',\n",
    "    'В какие-то доли секунды всадники успевали натянуть луки и, почти не целясь, выстрелить по мишеням.'\n",
    "]"
   ]
  },
  {
   "cell_type": "markdown",
   "metadata": {},
   "source": [
    "**2 и 3. Разметка значений**"
   ]
  },
  {
   "cell_type": "code",
   "execution_count": 130,
   "metadata": {},
   "outputs": [],
   "source": [
    "import adagram\n",
    "from pymorphy2 import MorphAnalyzer\n",
    "from nltk.tokenize import RegexpTokenizer\n",
    "import numpy as np\n",
    "import warnings\n",
    "\n",
    "warnings.filterwarnings('ignore')\n",
    "vm = adagram.VectorModel.load('all.a010.p10.d300.w5.m100.nonorm.slim.joblib')\n",
    "token = RegexpTokenizer('\\w+')\n",
    "morph = MorphAnalyzer()\n",
    "\n",
    "def normalize(text):\n",
    "    words = [morph.parse(word)[0].normal_form for word in tokenize(text) if word]\n",
    "    return words\n",
    "\n",
    "def tokenize(text):\n",
    "    return token.tokenize(text)"
   ]
  },
  {
   "cell_type": "markdown",
   "metadata": {},
   "source": [
    "Давайте посмотрим, что вообще анаграм предоставляет для лука. у него 4 значения"
   ]
  },
  {
   "cell_type": "code",
   "execution_count": 131,
   "metadata": {},
   "outputs": [
    {
     "data": {
      "text/plain": [
       "[(0, 0.27467387333364635),\n",
       " (1, 0.17510064513645113),\n",
       " (2, 0.25182447428150506),\n",
       " (3, 0.0852764349918363),\n",
       " (4, 0.2131232975158767)]"
      ]
     },
     "execution_count": 131,
     "metadata": {},
     "output_type": "execute_result"
    }
   ],
   "source": [
    "vm.word_sense_probs('лук')"
   ]
  },
  {
   "cell_type": "code",
   "execution_count": 132,
   "metadata": {},
   "outputs": [
    {
     "data": {
      "text/plain": [
       "[('морковь', 0, 0.88146025),\n",
       " ('помидор', 0, 0.87984806),\n",
       " ('лук-порей', 0, 0.8786378),\n",
       " ('зелень', 0, 0.872901),\n",
       " ('нарезать', 0, 0.8665899),\n",
       " ('нашинковывать', 0, 0.86500126),\n",
       " ('сельдерей', 0, 0.864827),\n",
       " ('петрушка', 0, 0.85912484),\n",
       " ('мелко', 0, 0.85269046),\n",
       " ('нарубать', 0, 0.85126823)]"
      ]
     },
     "execution_count": 132,
     "metadata": {},
     "output_type": "execute_result"
    }
   ],
   "source": [
    "vm.sense_neighbors('лук', 0)"
   ]
  },
  {
   "cell_type": "markdown",
   "metadata": {},
   "source": [
    "это значение 1 в нашей аннотации. лук как зелёный лук."
   ]
  },
  {
   "cell_type": "code",
   "execution_count": 133,
   "metadata": {},
   "outputs": [
    {
     "data": {
      "text/plain": [
       "[('арбалет', 0, 0.7783164),\n",
       " ('дротик', 0, 0.6703703),\n",
       " ('пращ', 0, 0.6575549),\n",
       " ('самострел', 0, 0.6409095),\n",
       " ('мушкет', 0, 0.60409844),\n",
       " ('аркебуза', 0, 0.59130126),\n",
       " ('стрелять', 0, 0.5830756),\n",
       " ('дробовик', 0, 0.57427156),\n",
       " ('пневматический', 1, 0.56951344),\n",
       " ('аркебуз', 0, 0.56936765)]"
      ]
     },
     "execution_count": 133,
     "metadata": {},
     "output_type": "execute_result"
    }
   ],
   "source": [
    "vm.sense_neighbors('лук', 1)"
   ]
  },
  {
   "cell_type": "markdown",
   "metadata": {},
   "source": [
    "это значение 2 в нашей аннотации."
   ]
  },
  {
   "cell_type": "code",
   "execution_count": 134,
   "metadata": {},
   "outputs": [
    {
     "data": {
      "text/plain": [
       "[('чеснок', 1, 0.85911393),\n",
       " ('морковь', 1, 0.8193841),\n",
       " ('картошка', 0, 0.8175392),\n",
       " ('гриб', 0, 0.8077784),\n",
       " ('лучок', 0, 0.80261505),\n",
       " ('рубленый', 0, 0.7972997),\n",
       " ('морковка', 0, 0.79638934),\n",
       " ('помидор', 2, 0.7926231),\n",
       " ('томат', 0, 0.7870822),\n",
       " ('перец', 1, 0.7855267)]"
      ]
     },
     "execution_count": 134,
     "metadata": {},
     "output_type": "execute_result"
    }
   ],
   "source": [
    "vm.sense_neighbors('лук', 2)"
   ]
  },
  {
   "cell_type": "markdown",
   "metadata": {},
   "source": [
    "это значение 1 в нашей аннотации. лук как головка лука."
   ]
  },
  {
   "cell_type": "code",
   "execution_count": 135,
   "metadata": {},
   "outputs": [
    {
     "data": {
      "text/plain": [
       "[('лука', 1, 0.60117567),\n",
       " ('евангелист', 0, 0.54460436),\n",
       " ('иаков', 0, 0.52916515),\n",
       " ('лука', 2, 0.5226612),\n",
       " ('матфей', 1, 0.5224198),\n",
       " ('матфей', 0, 0.52019596),\n",
       " ('деяние', 1, 0.50425464),\n",
       " ('иоанн', 2, 0.50399673),\n",
       " ('апостол', 1, 0.49078336),\n",
       " ('ириней', 1, 0.4900581)]"
      ]
     },
     "execution_count": 135,
     "metadata": {},
     "output_type": "execute_result"
    }
   ],
   "source": [
    "vm.sense_neighbors('лук', 3)"
   ]
  },
  {
   "cell_type": "markdown",
   "metadata": {},
   "source": [
    "Лука- имя. Это мусор."
   ]
  },
  {
   "cell_type": "code",
   "execution_count": 136,
   "metadata": {},
   "outputs": [
    {
     "data": {
      "text/plain": [
       "[('лука', 0, 0.805669),\n",
       " ('арбалет', 1, 0.78230816),\n",
       " ('колчан', 0, 0.7731788),\n",
       " ('тетива', 0, 0.72229147),\n",
       " ('стрела', 0, 0.6901984),\n",
       " ('копье', 0, 0.68338805),\n",
       " ('самострел', 0, 0.67639554),\n",
       " ('копье', 1, 0.6679108),\n",
       " ('секира', 0, 0.6648324),\n",
       " ('палица', 0, 0.6603637)]"
      ]
     },
     "execution_count": 136,
     "metadata": {},
     "output_type": "execute_result"
    }
   ],
   "source": [
    "vm.sense_neighbors('лук', 4)"
   ]
  },
  {
   "cell_type": "markdown",
   "metadata": {},
   "source": [
    "Это значение 2 по нашей аннотации. Чем отличается 1 от 4 в адаграме я понять не могу, при подсчете accuracy и проч. будем считать, что они идентичны"
   ]
  },
  {
   "cell_type": "markdown",
   "metadata": {},
   "source": [
    "Значение 0 и 2 по анаграму мы тоже \"схлопнем\" в одно:так как ни один словарь не делит лук на репчатый и белый."
   ]
  },
  {
   "cell_type": "markdown",
   "metadata": {},
   "source": [
    "подготовим предложения к оценке их класса"
   ]
  },
  {
   "cell_type": "code",
   "execution_count": 137,
   "metadata": {},
   "outputs": [],
   "source": [
    "set0_n = []\n",
    "set1_n =[]\n",
    "\n",
    "def prep(source, goal):\n",
    "    for sent in source:\n",
    "        sent = normalize(sent)\n",
    "        #print(sent)\n",
    "        # у нас есть 3 варианта разметки лексемы \"лук\": \"лука\", \"лук\", \"луковый\"\n",
    "        try:\n",
    "            sent.pop(sent.index('лука'))\n",
    "        except:\n",
    "            try:\n",
    "                sent.pop(sent.index('лук'))\n",
    "            except:\n",
    "                sent.pop(sent.index('луковый'))\n",
    "        goal.append(sent)\n",
    "        \n",
    "prep(set0, set0_n)\n",
    "prep(set1, set1_n)    \n",
    "    "
   ]
  },
  {
   "cell_type": "code",
   "execution_count": 138,
   "metadata": {},
   "outputs": [],
   "source": [
    "from pymystem3 import Mystem\n",
    "mystem = Mystem()\n"
   ]
  },
  {
   "cell_type": "code",
   "execution_count": 139,
   "metadata": {},
   "outputs": [],
   "source": [
    "def disambiguate(model, word, context):\n",
    "    word, _ = lemmatized_context(word)\n",
    "    probs = model.disambiguate(word, lemmatized_context(context))\n",
    "    return 1 + probs.argmax()\n",
    "\n",
    "\n",
    "def lemmatized_context(s):\n",
    "    return [w.lower() for w in mystem.lemmatize(\" \".join(tokenize(s)))]\n",
    "\n",
    "def disam(array):\n",
    "    out = []\n",
    "    for sent in array:\n",
    "        #по каким-то непонятным причинам, при дизамбигуации у меня значения начинают нумероваться с первого по пятое,\n",
    "        #а не с нулевого по четвертое, так что из значения нужно вычитать 1. \n",
    "        # Также мы решили что id 0 и 2 и id 1 и 4 - это одни и те же значения\n",
    "        pred = disambiguate(vm, 'лук', \" \".join(sent)) - 1\n",
    "        #print(pred)\n",
    "        if pred == 2:\n",
    "            pred = 0\n",
    "        if pred == 4:\n",
    "            pred = 1\n",
    "        out.append(pred)\n",
    "        \n",
    "    return out\n",
    "\n",
    "pred0 = disam(set0_n)\n",
    "pred1 = disam(set1_n)"
   ]
  },
  {
   "cell_type": "markdown",
   "metadata": {},
   "source": [
    "Первый  сет значений определился с accuracy в 100%. Ура!!"
   ]
  },
  {
   "cell_type": "code",
   "execution_count": 140,
   "metadata": {},
   "outputs": [
    {
     "data": {
      "text/plain": [
       "[0, 0, 0, 0, 0, 0, 0, 0, 0, 0]"
      ]
     },
     "execution_count": 140,
     "metadata": {},
     "output_type": "execute_result"
    }
   ],
   "source": [
    "pred0"
   ]
  },
  {
   "cell_type": "markdown",
   "metadata": {},
   "source": [
    "Второй сет значений тоже определился с accuracy в 100%"
   ]
  },
  {
   "cell_type": "code",
   "execution_count": 141,
   "metadata": {},
   "outputs": [
    {
     "data": {
      "text/plain": [
       "[1, 1, 1, 1, 1, 1, 1, 1, 1, 1]"
      ]
     },
     "execution_count": 141,
     "metadata": {},
     "output_type": "execute_result"
    }
   ],
   "source": [
    "pred1"
   ]
  },
  {
   "cell_type": "markdown",
   "metadata": {},
   "source": [
    "Теперь загоним туда наши толкования"
   ]
  },
  {
   "cell_type": "code",
   "execution_count": 142,
   "metadata": {},
   "outputs": [
    {
     "data": {
      "text/plain": [
       "0"
      ]
     },
     "execution_count": 142,
     "metadata": {},
     "output_type": "execute_result"
    }
   ],
   "source": [
    "pred_def0 = disambiguate(vm, 'лук', def0) - 1\n",
    "pred_def0"
   ]
  },
  {
   "cell_type": "code",
   "execution_count": 143,
   "metadata": {},
   "outputs": [
    {
     "data": {
      "text/plain": [
       "4"
      ]
     },
     "execution_count": 143,
     "metadata": {},
     "output_type": "execute_result"
    }
   ],
   "source": [
    "pred_def1 = disambiguate(vm, 'лук', def1) - 1\n",
    "pred_def1"
   ]
  },
  {
   "cell_type": "markdown",
   "metadata": {},
   "source": [
    "значения определились верно, но для сохранения нотации, заменим 4 на 1 (мы чуть выше решили,ч то это одно и то же)"
   ]
  },
  {
   "cell_type": "code",
   "execution_count": 144,
   "metadata": {},
   "outputs": [],
   "source": [
    "pred_def1 = 1"
   ]
  },
  {
   "cell_type": "markdown",
   "metadata": {},
   "source": [
    "# 4. Тезаурус"
   ]
  },
  {
   "cell_type": "code",
   "execution_count": 158,
   "metadata": {},
   "outputs": [],
   "source": [
    "from wiki_ru_wordnet import WikiWordnet\n",
    "wikiwordnet = WikiWordnet()"
   ]
  },
  {
   "cell_type": "code",
   "execution_count": 159,
   "metadata": {},
   "outputs": [],
   "source": [
    "synsets = wikiwordnet.get_synsets('лук')"
   ]
  },
  {
   "cell_type": "markdown",
   "metadata": {},
   "source": [
    "Итак, посмотрим на те значения, которые есть у нас для лука в тезаурусе. Первые пять значерий, часть из которых мне трудно развести, суммируется в наше значение 0, а последнее - в наше значение 1."
   ]
  },
  {
   "cell_type": "code",
   "execution_count": 160,
   "metadata": {},
   "outputs": [
    {
     "name": "stdout",
     "output_type": "stream",
     "text": [
      "{\"лук~ru~лук~ru~{{ботан.|ru}} род луковичных [[растений]] (''Allium'') семейства [[Луковые]] (Alliaceae) {{пример|Там какое-то болото было, а {{выдел|лук}} рос на кочках.|Валентин Распутин|Последний срок|1970|источник=НКРЯ}}~65218~74957\"}\n",
      "{'луковица~ru~луковица~ru~головка лука {{пример|Разыскав связку лука, Детрей очистил две {{выдел|луковицы}}, искрошил, перемешал на большой сковороде с солью|Грин|Джесси и Моргиана|1928|источник=НКРЯ}}~45439~47202', 'лук~ru~лук~ru~{{=|репчатый лук|[[луковица|луковицы]] лука [1] как пищевой продукт}} {{пример|Кроме того, он был сварен с большим количеством {{выдел|лука}}, а Валя не любила варёный {{выдел|лук}}.|Татьяна Тронина|Русалка для интимных встреч|2004|источник=НКРЯ}}~94921~68014'}\n",
      "{'лук~ru~лук~ru~{{=|зелёный лук|перья лука [1] как пищевой продукт}} {{пример|Она тыкала перья {{выдел|лука}} в соль, откусывала хлеб, подносила кружку дрожащей рукой ко рту, в серое пятнышко соли пулями ударялись слёзы и насквозь, до скоблёного дерева, пробивали его, развеивая по столу серую соляную пыль.|Виктор Астафьев|Весёлый солдат|издание=Новый Мир|1998|источник=НКРЯ}}~3840~28787'}\n",
      "{'лук~ru~лук~ru~{{=|гусиный лук|({{lang|la|Gagea}}) — род травянистых луковичных растений семейства [[Лилейные]]}} {{пример|}}~82671~16717'}\n",
      "{'лук~ru~лук~ru~{{=|морской лук|({{lang|la|Urgínea marítima}}) многолетнее травянистое луковичное растение; вид рода [[ургинея]] (Urginea) семейства [[Гиацинтовые]].}} {{пример|}}~60110~38986'}\n",
      "{'лук~ru~лук~ru~[[разновидность]] [[метательный|метательного]] [[оружие|оружия]], [[предназначенный|предназначенная]] для [[стрельба|стрельбы]] [[стрела]]ми {{пример|Человек освоил {{выдел|лук}} и стрелы задолго до изучения законов механики и сделал вполне приличный металлический топор без изучения микроскопических свойств металла. |Геннадий Горелик|Андрей Сахаров. Наука и свобода|2004|источник=НКРЯ}}~25293~28532'}\n"
     ]
    }
   ],
   "source": [
    "for synset in synsets:\n",
    "    print({w.definition() for w in synset.get_words()})"
   ]
  },
  {
   "cell_type": "markdown",
   "metadata": {},
   "source": [
    "Я не совсем понимаю четвертое задание, но, насколько его понимю я, надо соотнести значения, кот. выделил я, с толкованиями из МАСа. Сделаем это при помощи гипперонниомов. Выделим гипперонимы для тех 2 значений, которые у нас есть и попытаемся пересечь ихс двумя толкованиями. Так как толкование обычно состоит из гипперонима и (оружие) и сужающего определения (для метания стрел), то должно получиться"
   ]
  },
  {
   "cell_type": "code",
   "execution_count": 161,
   "metadata": {},
   "outputs": [],
   "source": [
    "hyper0 = []\n",
    "hyper1 = []\n",
    "\n",
    "def hyper(synsets, hyper_):\n",
    "    for synset in synsets:\n",
    "        for hypernym in wikiwordnet.get_hypernyms(synset):\n",
    "            for w in hypernym.get_words():\n",
    "                words = w.lemma().split() # тут встречаются не только слова, но и словосочетания, в рамках нашего анализа их спокойно можно побить по пробелам\n",
    "                for word in words:\n",
    "                    if normalize(word)[0] not in hyper_:\n",
    "                        hyper_.append(normalize(word)[0]) \n",
    "    return hyper_\n",
    "                        \n",
    "    \n",
    "hyper0 = hyper(synsets[0:4], hyper0)\n",
    "hyper1 = hyper([synsets[5]], hyper1)\n"
   ]
  },
  {
   "cell_type": "code",
   "execution_count": 162,
   "metadata": {},
   "outputs": [
    {
     "data": {
      "text/plain": [
       "['овощ', 'растение', 'лилейный']"
      ]
     },
     "execution_count": 162,
     "metadata": {},
     "output_type": "execute_result"
    }
   ],
   "source": [
    "hyper0"
   ]
  },
  {
   "cell_type": "code",
   "execution_count": 163,
   "metadata": {},
   "outputs": [
    {
     "data": {
      "text/plain": [
       "['метательный', 'оружие', 'холодное']"
      ]
     },
     "execution_count": 163,
     "metadata": {},
     "output_type": "execute_result"
    }
   ],
   "source": [
    "hyper1"
   ]
  },
  {
   "cell_type": "code",
   "execution_count": 164,
   "metadata": {},
   "outputs": [],
   "source": [
    "def0_set = set(normalize(def0))\n",
    "def1_set = set(normalize(def1))\n",
    "\n",
    "hyper0_set = set(hyper0)\n",
    "hyper1_set = set(hyper1)"
   ]
  },
  {
   "cell_type": "code",
   "execution_count": 165,
   "metadata": {},
   "outputs": [],
   "source": [
    "def disambiguate_wiki(def_set ,set0, set1, number ):\n",
    "    intersec0 = len(def_set & set0)\n",
    "    intersec1 = len(def_set & set1)\n",
    "    if intersec0 > intersec1:\n",
    "        print ('для толкования', number, 'значение определилось как 0 ')\n",
    "    elif intersec1 > intersec0:\n",
    "        print ('для толкования', number, 'значение определилось как 1 ')\n",
    "    else:\n",
    "        print ('не удалось определить значение для толкования', number )\n",
    "    return"
   ]
  },
  {
   "cell_type": "code",
   "execution_count": 166,
   "metadata": {},
   "outputs": [
    {
     "name": "stdout",
     "output_type": "stream",
     "text": [
      "для толкования 0 значение определилось как 0 \n",
      "для толкования 1 значение определилось как 1 \n"
     ]
    }
   ],
   "source": [
    "disambiguate_wiki(def0_set , hyper0_set, hyper1_set, 0)\n",
    "disambiguate_wiki(def1_set , hyper0_set, hyper1_set, 1)"
   ]
  },
  {
   "cell_type": "markdown",
   "metadata": {},
   "source": [
    "ура! вся получилось. Accuracy тут равно ста процентам. Считать её посредством кода для двух слов я не вижу смысла, но для соответсвия из частей 2-3 посчитаю"
   ]
  },
  {
   "cell_type": "markdown",
   "metadata": {},
   "source": [
    "# 5. Accuracy"
   ]
  },
  {
   "cell_type": "code",
   "execution_count": 167,
   "metadata": {},
   "outputs": [],
   "source": [
    "from sklearn.metrics import accuracy_score"
   ]
  },
  {
   "cell_type": "code",
   "execution_count": 171,
   "metadata": {},
   "outputs": [],
   "source": [
    "y_true = [0]*10 + [1]*10\n",
    "#  обе метрики предсказали нашим толкованиям такие значения "
   ]
  },
  {
   "cell_type": "code",
   "execution_count": 169,
   "metadata": {},
   "outputs": [],
   "source": [
    "y_pred = pred0  + pred1\n",
    "#предсказанные значения из предыдущих 2-3"
   ]
  },
  {
   "cell_type": "code",
   "execution_count": 170,
   "metadata": {},
   "outputs": [
    {
     "data": {
      "text/plain": [
       "1.0"
      ]
     },
     "execution_count": 170,
     "metadata": {},
     "output_type": "execute_result"
    }
   ],
   "source": [
    "accuracy_score(y_true, y_pred)"
   ]
  },
  {
   "cell_type": "markdown",
   "metadata": {},
   "source": [
    "Ну что, получилось здорово"
   ]
  }
 ],
 "metadata": {
  "kernelspec": {
   "display_name": "Python 3",
   "language": "python",
   "name": "python3"
  },
  "language_info": {
   "codemirror_mode": {
    "name": "ipython",
    "version": 3
   },
   "file_extension": ".py",
   "mimetype": "text/x-python",
   "name": "python",
   "nbconvert_exporter": "python",
   "pygments_lexer": "ipython3",
   "version": "3.7.3"
  }
 },
 "nbformat": 4,
 "nbformat_minor": 2
}
